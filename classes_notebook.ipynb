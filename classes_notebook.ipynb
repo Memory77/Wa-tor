{
 "cells": [
  {
   "cell_type": "code",
   "execution_count": 1,
   "metadata": {},
   "outputs": [
    {
     "name": "stdout",
     "output_type": "stream",
     "text": [
      "pygame 2.5.2 (SDL 2.28.2, Python 3.10.12)\n",
      "Hello from the pygame community. https://www.pygame.org/contribute.html\n"
     ]
    }
   ],
   "source": [
    "import time\n",
    "import pygame\n",
    "import random\n",
    "\n",
    "class Animaux:\n",
    "\n",
    "    def __init__(self, chronon, chronon_count, chronon_count_reproduction, chronon_count_requins, poisson, requin):\n",
    "        self.chronon = chronon\n",
    "        self.chronon_count = chronon_count\n",
    "        self.chronon_count_reproduction = chronon_count_reproduction\n",
    "        poisson = pygame.image.load(image_path).convert()\n",
    "        self.poisson = poisson\n",
    "        requin = pygame.image.load(image_path).convert()\n",
    "        self.requin = requin\n",
    "        self.chronon_count_requins = chronon_count_requins\n",
    "\n",
    "    def reproduction(self, chronon_count_reproduction): #seuil de reproduction identiques pour poissons et requins\n",
    "        if self.chronon_count_reproduction >= 3:\n",
    "            self.old_poisson = pygame.Rect.copy(self.poisson.rect)\n",
    "            self.old_requin = pygame.Rect.copy(self.requin.rect)\n",
    "            self.chronon_count_reproduction = 0\n",
    "\n",
    "    #def radar cases voisines\n",
    "\n"
   ]
  },
  {
   "cell_type": "code",
   "execution_count": null,
   "metadata": {},
   "outputs": [],
   "source": [
    "class Timer(Animaux):\n",
    "\n",
    "    def __init__(self, chronon, chronon_count, chronon_count_reproduction):\n",
    "        Animaux.__init__(self, chronon, chronon_count, chronon_count_reproduction)\n",
    "\n",
    "    def timer(self, chronon):\n",
    "\n",
    "        while self.chronon_count < 2:\n",
    "            for seconds in range(1, self.chronon+1):\n",
    "                print(seconds)\n",
    "                time.sleep(1)\n",
    "            \n",
    "            self.chronon_count += 1\n",
    "            self.chronon_count_reproduction += 1\n",
    "            # self.energie -= 1 (pour les requins uniquement)\n",
    "            print(f\"Un nouveau jour vient de passer, ({self.chronon_count} chronon(s))\")\n",
    "            time.sleep(2) #temps d'attente entre chaque chronon/jour\n",
    "\n",
    "\n",
    "temps = Timer(5,0)\n",
    "temps.timer(5)"
   ]
  },
  {
   "cell_type": "code",
   "execution_count": null,
   "metadata": {},
   "outputs": [],
   "source": [
    "class Poissons(Animaux):\n",
    "    pass\n",
    "\n",
    "    def __init__(self, chronon, chronon_count, poisson):\n",
    "        Animaux.__init__(self, chronon, chronon_count)\n",
    "        self.poisson = poisson\n",
    "\n",
    "    # def reproduction(self, chronon_count_reproduction):\n",
    "    #     if self.chronon_count_reproduction >= 3:\n",
    "    #         self.old_poisson = pygame.Rect.copy(self.poisson.rect)\n",
    "    #         self.chronon_count_reproduction = 0\n",
    "\n",
    "\n",
    "    def deplacements_poissons(self, poisson):\n",
    "        #cases vides uniquement"
   ]
  },
  {
   "cell_type": "code",
   "execution_count": null,
   "metadata": {},
   "outputs": [],
   "source": [
    "class Requins(Animaux):\n",
    "\n",
    "    def __init__(self, chronon, chronon_count, energie, requin, chronon_count_requins):\n",
    "        Animaux.__init__(self, chronon, chronon_count, chronon_count_requins)\n",
    "        self.energie = energie\n",
    "    \n",
    "    def reproduction(self, chronon_count, energie):\n",
    "        reproduction_requins = super().reproduction(chronon_count)\n",
    "        energie -= 1\n",
    "\n",
    "    #def mort(self, chronon_count, energie):\n",
    "       # if energie == 0: #or (self.chronon_count >= 4 and compteur nourriture requin == 0):\n",
    "                            \n",
    "\n",
    "    #def nourriture(self, chronon_count, energie, poissons_manges):\n",
    "        # if poisson and requin dans la même case\n",
    "            # requin mange poisson (poisson.kill())\n",
    "            # energie += 1\n",
    "\n",
    "        # elif energie == 0 or (self.chronon_count >= 4 and compteur nourriture requin == 0):\n",
    "            # requin.kill()"
   ]
  },
  {
   "cell_type": "code",
   "execution_count": null,
   "metadata": {},
   "outputs": [],
   "source": [
    "class DeplacementsRequins(Requins):"
   ]
  },
  {
   "cell_type": "code",
   "execution_count": 124,
   "metadata": {},
   "outputs": [
    {
     "ename": "KeyboardInterrupt",
     "evalue": "",
     "output_type": "error",
     "traceback": [
      "\u001b[0;31m---------------------------------------------------------------------------\u001b[0m",
      "\u001b[0;31mKeyboardInterrupt\u001b[0m                         Traceback (most recent call last)",
      "\u001b[1;32m/home/utilisateur/Documents/projets/projet-wator/Wa-tor/classes_notebook.ipynb Cell 6\u001b[0m line \u001b[0;36m6\n\u001b[1;32m     <a href='vscode-notebook-cell:/home/utilisateur/Documents/projets/projet-wator/Wa-tor/classes_notebook.ipynb#X13sZmlsZQ%3D%3D?line=59'>60</a>\u001b[0m     tous_sprites\u001b[39m.\u001b[39mupdate()\n\u001b[1;32m     <a href='vscode-notebook-cell:/home/utilisateur/Documents/projets/projet-wator/Wa-tor/classes_notebook.ipynb#X13sZmlsZQ%3D%3D?line=60'>61</a>\u001b[0m     tous_sprites\u001b[39m.\u001b[39mdraw(fenetre)\n\u001b[0;32m---> <a href='vscode-notebook-cell:/home/utilisateur/Documents/projets/projet-wator/Wa-tor/classes_notebook.ipynb#X13sZmlsZQ%3D%3D?line=62'>63</a>\u001b[0m     pygame\u001b[39m.\u001b[39;49mdisplay\u001b[39m.\u001b[39;49mupdate()\n\u001b[1;32m     <a href='vscode-notebook-cell:/home/utilisateur/Documents/projets/projet-wator/Wa-tor/classes_notebook.ipynb#X13sZmlsZQ%3D%3D?line=64'>65</a>\u001b[0m \u001b[39m# Quitter Pygame\u001b[39;00m\n\u001b[1;32m     <a href='vscode-notebook-cell:/home/utilisateur/Documents/projets/projet-wator/Wa-tor/classes_notebook.ipynb#X13sZmlsZQ%3D%3D?line=65'>66</a>\u001b[0m pygame\u001b[39m.\u001b[39mquit()\n",
      "\u001b[0;31mKeyboardInterrupt\u001b[0m: "
     ]
    }
   ],
   "source": [
    "import pygame\n",
    "import sys\n",
    "\n",
    "\n",
    "class Poisson(pygame.sprite.Sprite):\n",
    "    def __init__(self, x, y):\n",
    "        super().__init__()\n",
    "        self.image = pygame.image.load('img/poisson (1).png')\n",
    "        self.rect = self.image.get_rect()\n",
    "        self.rect.x = x\n",
    "        self.rect.y = y\n",
    "\n",
    "# class Requin(Poisson):\n",
    "#     def __init__(self, x, y):\n",
    "#         super().__init__(x, y)  # Assurez-vous de passer x et y au constructeur de la classe mère\n",
    "#         self.image = pygame.image.load('img/poisson.png')\n",
    "#         self.rect = self.image.get_rect()\n",
    "\n",
    "# Initialisation de Pygame\n",
    "pygame.init()\n",
    "\n",
    "# Taille de la fenêtre\n",
    "largeur, hauteur = 1500, 1000\n",
    "taille_case = largeur // 15\n",
    "\n",
    "# Création de la fenêtre\n",
    "fenetre = pygame.display.set_mode((largeur, hauteur))\n",
    "\n",
    "# Couleurs\n",
    "blanc = (255, 255, 255)\n",
    "noir = (0, 0, 0)\n",
    "\n",
    "# Groupes de sprite\n",
    "tous_sprites = pygame.sprite.Group()\n",
    "\n",
    "\n",
    "# Position de la case pour les poissons\n",
    "positions_poissons = [(0, 1), (3, 5), (6, 8), (1, -1)]  # Exemple : positionnez 3 poissons à différentes positions\n",
    "\n",
    "for x_case, y_case in positions_poissons:\n",
    "    poisson = Poisson(x_case * taille_case, y_case * taille_case)\n",
    "    tous_sprites.add(poisson)\n",
    "\n",
    "\n",
    "\n",
    "\n",
    "running = True\n",
    "while running:\n",
    "    for event in pygame.event.get():\n",
    "        if event.type == pygame.QUIT:\n",
    "            running = False\n",
    "\n",
    "    fenetre.fill(blanc)\n",
    "\n",
    "    for x in range(0, largeur, taille_case):\n",
    "        pygame.draw.line(fenetre, noir, (x, 0), (x, hauteur))\n",
    "    for y in range(0, hauteur, taille_case):\n",
    "        pygame.draw.line(fenetre, noir, (0, y), (largeur, y))\n",
    "\n",
    "    tous_sprites.update()\n",
    "    tous_sprites.draw(fenetre)\n",
    "\n",
    "    pygame.display.update()\n",
    "\n",
    "# Quitter Pygame\n",
    "pygame.quit()\n",
    "sys.exit()\n",
    "\n"
   ]
  }
 ],
 "metadata": {
  "kernelspec": {
   "display_name": "venv",
   "language": "python",
   "name": "python3"
  },
  "language_info": {
   "codemirror_mode": {
    "name": "ipython",
    "version": 3
   },
   "file_extension": ".py",
   "mimetype": "text/x-python",
   "name": "python",
   "nbconvert_exporter": "python",
   "pygments_lexer": "ipython3",
   "version": "3.10.12"
  }
 },
 "nbformat": 4,
 "nbformat_minor": 2
}
