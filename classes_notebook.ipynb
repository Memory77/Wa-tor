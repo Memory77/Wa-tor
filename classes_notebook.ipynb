{
 "cells": [
  {
   "cell_type": "code",
   "execution_count": 53,
   "metadata": {},
   "outputs": [],
   "source": [
    "import time\n",
    "import pygame\n",
    "import random\n",
    "\n",
    "class Animaux:\n",
    "\n",
    "    def __init__(self, chronon, chronon_count, chronon_count_reproduction, chronon_count_requins, poisson, requin):\n",
    "        self.chronon = chronon\n",
    "        self.chronon_count = chronon_count\n",
    "        self.chronon_count_reproduction = chronon_count_reproduction\n",
    "        poisson = pygame.image.load(image_path).convert()\n",
    "        self.poisson = poisson\n",
    "        requin = pygame.image.load(image_path).convert()\n",
    "        self.requin = requin\n",
    "        self.chronon_count_requins = chronon_count_requins\n",
    "\n",
    "    def reproduction(self, chronon_count_reproduction): #seuil de reproduction identiques pour poissons et requins\n",
    "        if self.chronon_count_reproduction >= 3:\n",
    "            self.old_poisson = pygame.Rect.copy(self.poisson.rect)\n",
    "            self.old_requin = pygame.Rect.copy(self.requin.rect)\n",
    "            self.chronon_count_reproduction = 0\n",
    "\n",
    "    #def radar cases voisines\n",
    "\n",
    "    for case in grid:\n",
    "        if Sprite in case:\n",
    "\n"
   ]
  },
  {
   "cell_type": "code",
   "execution_count": 57,
   "metadata": {},
   "outputs": [
    {
     "name": "stdout",
     "output_type": "stream",
     "text": [
      "[True, False, True]\n",
      "[False, False, False]\n",
      "[False, True, False]\n"
     ]
    }
   ],
   "source": [
    "import random \n",
    "\n",
    "taille_grille = 3\n",
    "grille = [[False for _ in range(taille_grille)] for _ in range(taille_grille)]\n",
    "\n",
    "# Placez trois poissons aléatoirement dans la grille\n",
    "for _ in range(3):\n",
    "    ligne = random.randint(0, taille_grille - 1)\n",
    "    colonne = random.randint(0, taille_grille - 1)\n",
    "    while grille[ligne][colonne]:\n",
    "        # Répétez tant que la case choisie contient déjà un poisson\n",
    "        ligne = random.randint(0, taille_grille - 1)\n",
    "        colonne = random.randint(0, taille_grille - 1)\n",
    "    grille[ligne][colonne] = True\n",
    "\n",
    "# Affiche la grille\n",
    "for ligne in grille:\n",
    "    print(ligne)\n"
   ]
  },
  {
   "cell_type": "code",
   "execution_count": null,
   "metadata": {},
   "outputs": [],
   "source": [
    "class Timer(Animaux):\n",
    "\n",
    "    def __init__(self, chronon, chronon_count, chronon_count_reproduction):\n",
    "        Animaux.__init__(self, chronon, chronon_count, chronon_count_reproduction)\n",
    "\n",
    "    def timer(self, chronon):\n",
    "\n",
    "        while self.chronon_count < 2:\n",
    "            for seconds in range(1, self.chronon+1):\n",
    "                print(seconds)\n",
    "                time.sleep(1)\n",
    "            \n",
    "            self.chronon_count += 1\n",
    "            self.chronon_count_reproduction += 1\n",
    "            # self.energie -= 1 (pour les requins uniquement)\n",
    "            print(f\"Un nouveau jour vient de passer, ({self.chronon_count} chronon(s))\")\n",
    "            time.sleep(2) #temps d'attente entre chaque chronon/jour\n",
    "\n",
    "\n",
    "temps = Timer(5,0)\n",
    "temps.timer(5)"
   ]
  },
  {
   "cell_type": "code",
   "execution_count": null,
   "metadata": {},
   "outputs": [],
   "source": [
    "class Poissons(Animaux):\n",
    "    pass\n",
    "\n",
    "    def __init__(self, chronon, chronon_count, poisson):\n",
    "        Animaux.__init__(self, chronon, chronon_count)\n",
    "        self.poisson = poisson\n",
    "\n",
    "    # def reproduction(self, chronon_count_reproduction):\n",
    "    #     if self.chronon_count_reproduction >= 3:\n",
    "    #         self.old_poisson = pygame.Rect.copy(self.poisson.rect)\n",
    "    #         self.chronon_count_reproduction = 0\n",
    "\n",
    "\n",
    "    def deplacements_poissons(self, poisson):\n",
    "        #cases vides uniquement"
   ]
  },
  {
   "cell_type": "code",
   "execution_count": null,
   "metadata": {},
   "outputs": [],
   "source": [
    "class Requins(Animaux):\n",
    "\n",
    "    def __init__(self, chronon, chronon_count, energie, requin, chronon_count_requins):\n",
    "        Animaux.__init__(self, chronon, chronon_count, chronon_count_requins)\n",
    "        self.energie = energie\n",
    "    \n",
    "    def reproduction(self, chronon_count, energie):\n",
    "        reproduction_requins = super().reproduction(chronon_count)\n",
    "        energie -= 1\n",
    "\n",
    "    #def mort(self, chronon_count, energie):\n",
    "       # if energie == 0: #or (self.chronon_count >= 4 and compteur nourriture requin == 0):\n",
    "                            \n",
    "\n",
    "    #def nourriture(self, chronon_count, energie, poissons_manges):\n",
    "        # if poisson and requin dans la même case\n",
    "            # requin mange poisson (poisson.kill())\n",
    "            # energie += 1\n",
    "\n",
    "        # elif energie == 0 or (self.chronon_count >= 4 and compteur nourriture requin == 0):\n",
    "            # requin.kill()"
   ]
  },
  {
   "cell_type": "code",
   "execution_count": null,
   "metadata": {},
   "outputs": [],
   "source": [
    "class DeplacementsRequins(Requins):"
   ]
  }
 ],
 "metadata": {
  "kernelspec": {
   "display_name": "venv",
   "language": "python",
   "name": "python3"
  },
  "language_info": {
   "codemirror_mode": {
    "name": "ipython",
    "version": 3
   },
   "file_extension": ".py",
   "mimetype": "text/x-python",
   "name": "python",
   "nbconvert_exporter": "python",
   "pygments_lexer": "ipython3",
   "version": "3.10.12"
  }
 },
 "nbformat": 4,
 "nbformat_minor": 2
}
