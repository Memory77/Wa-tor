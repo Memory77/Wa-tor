{
 "cells": [
  {
   "cell_type": "code",
   "execution_count": 5,
   "metadata": {},
   "outputs": [
    {
     "name": "stdout",
     "output_type": "stream",
     "text": [
      "[[0. 0. 0. 0. 0. 0. 0. 0. 0. 0.]\n",
      " [0. 0. 0. 0. 0. 0. 0. 0. 0. 0.]\n",
      " [0. 0. 0. 0. 0. 0. 0. 0. 0. 0.]\n",
      " [0. 0. 0. 0. 0. 0. 0. 0. 0. 0.]\n",
      " [0. 0. 0. 0. 0. 0. 0. 0. 0. 0.]]\n"
     ]
    }
   ],
   "source": [
    "import numpy as np\n",
    "\n",
    "tableau_de_zeros = np.zeros((5, 10))\n",
    "\n",
    "print(tableau_de_zeros)\n",
    "\n",
    "tableau_de_zeros[0] = 1\n",
    "tableau_de_zeros[2][3] = 1\n"
   ]
  },
  {
   "cell_type": "code",
   "execution_count": 6,
   "metadata": {},
   "outputs": [
    {
     "name": "stdout",
     "output_type": "stream",
     "text": [
      "Élément à la position (1, 1): 0\n",
      "Élément à la position (1, 2): 0\n",
      "Élément à la position (1, 3): 0\n",
      "Élément à la position (2, 1): 0\n",
      "Élément à la position (2, 2): 0\n",
      "Élément à la position (2, 3): 0\n",
      "Élément à la position (3, 1): 0\n",
      "Élément à la position (3, 2): 0\n",
      "Élément à la position (3, 3): 0\n"
     ]
    }
   ],
   "source": [
    "\n",
    "import numpy as np\n",
    "\n",
    "# Exemple de création d'une grille (tableau NumPy)\n",
    "largeur, hauteur = 5, 5\n",
    "grille = np.zeros((largeur, hauteur), dtype=int)  # Initialisation avec des cases vides (0)\n",
    "\n",
    "x, y = 2, 2  # Position à scanner\n",
    "\n",
    "# Scanner les éléments autour de la position (x, y)\n",
    "for i in range(-1, 2):\n",
    "    for j in range(-1, 2):\n",
    "        if 0 <= x + i < largeur and 0 <= y + j < hauteur:\n",
    "            # Vous pouvez maintenant accéder à la case grille[x+i][y+j] pour l'examiner\n",
    "            print(f\"Élément à la position ({x + i}, {y + j}): {grille[x + i, y + j]}\")\n"
   ]
  },
  {
   "cell_type": "code",
   "execution_count": null,
   "metadata": {},
   "outputs": [],
   "source": []
  }
 ],
 "metadata": {
  "kernelspec": {
   "display_name": "venv",
   "language": "python",
   "name": "python3"
  },
  "language_info": {
   "codemirror_mode": {
    "name": "ipython",
    "version": 3
   },
   "file_extension": ".py",
   "mimetype": "text/x-python",
   "name": "python",
   "nbconvert_exporter": "python",
   "pygments_lexer": "ipython3",
   "version": "3.10.12"
  }
 },
 "nbformat": 4,
 "nbformat_minor": 2
}
